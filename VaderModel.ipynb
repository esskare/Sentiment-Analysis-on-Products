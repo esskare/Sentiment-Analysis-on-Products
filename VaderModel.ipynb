{
 "cells": [
  {
   "cell_type": "markdown",
   "metadata": {},
   "source": [
    "Setting up Dataset"
   ]
  },
  {
   "cell_type": "code",
   "execution_count": 1,
   "metadata": {},
   "outputs": [
    {
     "ename": "SyntaxError",
     "evalue": "invalid syntax (__init__.py, line 115)",
     "output_type": "error",
     "traceback": [
      "Traceback \u001b[1;36m(most recent call last)\u001b[0m:\n",
      "\u001b[0m  File \u001b[0;32mc:\\Users\\swanjuki\\Documents\\Kare\\Sentiment-Analysis-on-Products\\.venv\\Lib\\site-packages\\IPython\\core\\interactiveshell.py:3577\u001b[0m in \u001b[0;35mrun_code\u001b[0m\n    exec(code_obj, self.user_global_ns, self.user_ns)\u001b[0m\n",
      "\u001b[0m  Cell \u001b[0;32mIn[1], line 3\u001b[0m\n    import pandas as pd\u001b[0m\n",
      "\u001b[1;36m  File \u001b[1;32mc:\\Users\\swanjuki\\Documents\\Kare\\Sentiment-Analysis-on-Products\\.venv\\Lib\\site-packages\\pandas\\__init__.py:27\u001b[1;36m\n\u001b[1;33m    __import__(_dependency)\u001b[1;36m\n",
      "\u001b[1;36m  File \u001b[1;32mc:\\Users\\swanjuki\\Documents\\Kare\\Sentiment-Analysis-on-Products\\.venv\\Lib\\site-packages\\numpy\\__init__.py:115\u001b[1;36m\u001b[0m\n\u001b[1;33m    <<<<<<< HEAD\u001b[0m\n\u001b[1;37m    ^\u001b[0m\n\u001b[1;31mSyntaxError\u001b[0m\u001b[1;31m:\u001b[0m invalid syntax\n"
     ]
    }
   ],
   "source": [
    "# nltk.download() #downloaded all necessary packages of nltk\n",
    "#imports and first doing VADER MODEL\n",
    "import pandas as pd\n",
    "import numpy as np\n",
    "import matplotlib.pyplot as plt\n",
    "import seaborn as sns\n",
    "import nltk\n",
    "import re  # Import re for regex-based tokenization\n",
    "\n",
    "plt.style.use('ggplot')\n",
    "\n",
    "# # Define the custom tokenization function\n",
    "# def simple_tokenize(text):\n",
    "#     tokens = text.split()  # Basic tokenization by splitting on whitespace\n",
    "#     return tokens\n",
    "\n",
    "# Reading data \n",
    "df = pd.read_csv(\"Amazon_Unlocked_Mobile.csv\")\n",
    "\n",
    "# Show the specified index on the 'Reviews' row\n",
    "print(df['Reviews'].values[0])  \n",
    "\n",
    "# Print the shape of the dataset.\n",
    "print(df.shape)\n",
    "\n",
    "# Display the first few rows of the DataFrame\n",
    "df = df.head(500)"
   ]
  },
  {
   "cell_type": "markdown",
   "metadata": {},
   "source": [
    "Quick EDA\n"
   ]
  },
  {
   "cell_type": "code",
   "execution_count": null,
   "metadata": {},
   "outputs": [],
   "source": [
    "# Quick EDA: Plot the count of reviews by stars\n",
    "ax = df['Rating'].value_counts().sort_index().plot(\n",
    "    kind='bar', \n",
    "    title='Count of Reviews by stars',\n",
    "    figsize=(10, 5)\n",
    ")\n",
    "ax.set_xlabel('Review Stars')\n",
    "plt.show()"
   ]
  },
  {
   "cell_type": "markdown",
   "metadata": {},
   "source": [
    "BASIC NLTK TOKENIZATION"
   ]
  },
  {
   "cell_type": "code",
   "execution_count": null,
   "metadata": {},
   "outputs": [],
   "source": [
    "# Basic NLTK Tokenization\n",
    "example = df['Reviews'][10]\n",
    "tokens = nltk.word_tokenize(example)  # Tokenize the 'example' variable\n",
    "print(tokens)\n",
    "tokens[:10] #first 10 words\n",
    "tagged= nltk.pos_tag(tokens)\n",
    "tagged[:10]\n",
    "#putting them into entities\n",
    "\n",
    "entities = nltk.chunk.ne_chunk(tagged)\n",
    "entities.pprint()\n"
   ]
  },
  {
   "cell_type": "markdown",
   "metadata": {},
   "source": [
    "VADERS MODEL\n",
    "- Uses a \"cluster of words\" approach\n",
    "- Stop words are removed e.g. and, or\n",
    "- Each word is combined to a total score"
   ]
  },
  {
   "cell_type": "code",
   "execution_count": null,
   "metadata": {},
   "outputs": [],
   "source": [
    "#Vader Sentiment Scoring\n",
    "from nltk.sentiment import SentimentIntensityAnalyzer\n",
    "from tqdm.notebook import tqdm\n",
    "\n",
    "sia = SentimentIntensityAnalyzer()\n",
    "sia.polarity_scores('I am so happy!')\n",
    "sia.polarity_scores(example)\n",
    "df.head()\n",
    "print(df.columns)\n",
    "#Run polarity score on entire dataset\n",
    "from tqdm.notebook import tqdm\n",
    "import pandas as pd\n",
    "\n",
    "# Ensure 'Reviews' column is string type and handle missing values\n",
    "df['Reviews'] = df['Reviews'].astype(str)  # Convert all entries to string\n",
    "\n",
    "# Dictionary for results\n",
    "results = {}\n",
    "\n",
    "for i, row in tqdm(df.iterrows(), total=len(df)):\n",
    "    text = row['Reviews']\n",
    "    name = row['Brand Name']\n",
    "    \n",
    "    if isinstance(text, str):  # Check if text is a string\n",
    "        results[name] = sia.polarity_scores(text)\n",
    "    else:\n",
    "        results[name] = {\"error\": \"Invalid text\"}\n",
    "\n",
    "#results\n",
    "vaders = pd.DataFrame(results).T #.T flips the dataset horizontally\n",
    "#sentiment analysis on the whole dataset of 500\n",
    "vaders = vaders.merge(df, how='left', on='Brand Name')\n",
    "vaders.head()"
   ]
  },
  {
   "cell_type": "markdown",
   "metadata": {},
   "source": [
    "ROBERTA MODEL"
   ]
  },
  {
   "cell_type": "code",
   "execution_count": null,
   "metadata": {},
   "outputs": [],
   "source": [
    "\n",
    "#ROBERTA MODEL\n",
    "from transformers import AutoTokenizer\n",
    "from transformers import AutoModelForSequenceClassification\n",
    "from scipy.special import softmax\n",
    "MODEL = f'cardiffnlp/twitter-roberta-base-sentiment'\n",
    "tokenizer = AutoTokenizer.from_pretrained(MODEL)\n",
    "model = AutoModelForSequenceClassification.from_pretrained(MODEL)"
   ]
  },
  {
   "cell_type": "markdown",
   "metadata": {},
   "source": []
  }
 ],
 "metadata": {
  "kernelspec": {
   "display_name": ".venv",
   "language": "python",
   "name": "python3"
  },
  "language_info": {
   "codemirror_mode": {
    "name": "ipython",
    "version": 3
   },
   "file_extension": ".py",
   "mimetype": "text/x-python",
   "name": "python",
   "nbconvert_exporter": "python",
   "pygments_lexer": "ipython3",
   "version": "3.12.3"
  }
 },
 "nbformat": 4,
 "nbformat_minor": 2
}
