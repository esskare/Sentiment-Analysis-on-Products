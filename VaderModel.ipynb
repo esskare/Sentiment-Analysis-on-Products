{
 "cells": [
  {
   "cell_type": "markdown",
   "metadata": {},
   "source": [
    "Setting up Dataset"
   ]
  },
  {
   "cell_type": "code",
   "execution_count": 2,
   "metadata": {},
   "outputs": [
    {
     "name": "stdout",
     "output_type": "stream",
     "text": [
      "I feel so LUCKY to have found this used (phone to us & not used hard at all), phone on line from someone who upgraded and sold this one. My Son liked his old one that finally fell apart after 2.5+ years and didn't want an upgrade!! Thank you Seller, we really appreciate it & your honesty re: said used phone.I recommend this seller very highly & would but from them again!!\n",
      "(413840, 6)\n"
     ]
    }
   ],
   "source": [
    "import pandas as pd\n",
    "import numpy as np\n",
    "import matplotlib.pyplot as plt\n",
    "import seaborn as sns\n",
    "import nltk\n",
    "import re  # Import re for regex-based tokenization\n",
    "\n",
    "plt.style.use('ggplot')\n",
    "\n",
    "# # Define the custom tokenization function\n",
    "# def simple_tokenize(text):\n",
    "#     tokens = text.split()  # Basic tokenization by splitting on whitespace\n",
    "#     return tokens\n",
    "\n",
    "# Reading data \n",
    "df = pd.read_csv(\"Amazon_Unlocked_Mobile.csv\")\n",
    "\n",
    "# Show the specified index on the 'Reviews' row\n",
    "print(df['Reviews'].values[0])  \n",
    "\n",
    "# Print the shape of the dataset.\n",
    "print(df.shape)\n",
    "\n",
    "# Display the first few rows of the DataFrame\n",
    "df = df.head(500)\n"
   ]
  },
  {
   "cell_type": "markdown",
   "metadata": {},
   "source": [
    "QUICK EDA"
   ]
  },
  {
   "cell_type": "code",
   "execution_count": 3,
   "metadata": {},
   "outputs": [
    {
     "data": {
      "image/png": "[encoded data removed]",
      "text/plain": [
       "<Figure size 1000x500 with 1 Axes>"
      ]
     },
     "metadata": {},
     "output_type": "display_data"
    }
   ],
   "source": [
    "# Quick EDA: Plot the count of reviews by stars\n",
    "ax = df['Rating'].value_counts().sort_index().plot(\n",
    "    kind='bar', \n",
    "    title='Count of Reviews by stars',\n",
    "    figsize=(10, 5)\n",
    ")\n",
    "ax.set_xlabel('Review Stars')\n",
    "plt.show()"
   ]
  },
  {
   "cell_type": "markdown",
   "metadata": {},
   "source": [
    "BASIC NLTK TOKENIZATION"
   ]
  },
  {
   "cell_type": "code",
   "execution_count": 4,
   "metadata": {},
   "outputs": [
    {
     "name": "stdout",
     "output_type": "stream",
     "text": [
      "['My', 'fiance', 'had', 'this', 'phone', 'previously', ',', 'but', 'caused', 'many', 'problems', '.', 'So', ',', 'of', 'course', ',', 'we', 'decided', 'to', 'browse', 'amazon', 'for', 'a', 'replacement', 'til', \"'\", 'our', 'contract', 'is', 'up', '!', '&', 'so', 'far', 'so', 'good', '!']\n",
      "(S\n",
      "  My/PRP$\n",
      "  fiance/NN\n",
      "  had/VBD\n",
      "  this/DT\n",
      "  phone/NN\n",
      "  previously/RB\n",
      "  ,/,\n",
      "  but/CC\n",
      "  caused/VBD\n",
      "  many/JJ\n",
      "  problems/NNS\n",
      "  ./.\n",
      "  So/RB\n",
      "  ,/,\n",
      "  of/IN\n",
      "  course/NN\n",
      "  ,/,\n",
      "  we/PRP\n",
      "  decided/VBD\n",
      "  to/TO\n",
      "  browse/VB\n",
      "  amazon/NN\n",
      "  for/IN\n",
      "  a/DT\n",
      "  replacement/NN\n",
      "  til/NN\n",
      "  '/''\n",
      "  our/PRP$\n",
      "  contract/NN\n",
      "  is/VBZ\n",
      "  up/RP\n",
      "  !/.\n",
      "  &/CC\n",
      "  so/RB\n",
      "  far/RB\n",
      "  so/RB\n",
      "  good/JJ\n",
      "  !/.)\n"
     ]
    }
   ],
   "source": [
    "# Basic NLTK Tokenization\n",
    "example = df['Reviews'][10]\n",
    "tokens = nltk.word_tokenize(example)  # Tokenize the 'example' variable\n",
    "print(tokens)\n",
    "tokens[:10] #first 10 words\n",
    "tagged= nltk.pos_tag(tokens)\n",
    "tagged[:10]\n",
    "#putting them into entities\n",
    "\n",
    "entities = nltk.chunk.ne_chunk(tagged)\n",
    "entities.pprint()\n"
   ]
  },
  {
   "cell_type": "code",
   "execution_count": 5,
   "metadata": {},
   "outputs": [],
   "source": [
    "# nltk.download()"
   ]
  },
  {
   "cell_type": "markdown",
   "metadata": {},
   "source": [
    "VADERS MODEL\n",
    "- Uses a \"cluster of words\" approach\n",
    "- Stop words are removed e.g. and, or\n",
    "- Each word is combined to a total score"
   ]
  },
  {
   "cell_type": "code",
   "execution_count": 6,
   "metadata": {},
   "outputs": [
    {
     "data": {
      "application/vnd.jupyter.widget-view+json": {
       "model_id": "052ba18d39bc44098e5169c0d82832a4",
       "version_major": 2,
       "version_minor": 0
      },
      "text/plain": [
       "  0%|          | 0/500 [00:00<?, ?it/s]"
      ]
     },
     "metadata": {},
     "output_type": "display_data"
    },
    {
     "data": {
      "text/html": [
       "<div>\n",
       "<style scoped>\n",
       "    .dataframe tbody tr th:only-of-type {\n",
       "        vertical-align: middle;\n",
       "    }\n",
       "\n",
       "    .dataframe tbody tr th {\n",
       "        vertical-align: top;\n",
       "    }\n",
       "\n",
       "    .dataframe thead th {\n",
       "        text-align: right;\n",
       "    }\n",
       "</style>\n",
       "<table border=\"1\" class=\"dataframe\">\n",
       "  <thead>\n",
       "    <tr style=\"text-align: right;\">\n",
       "      <th></th>\n",
       "      <th>neg</th>\n",
       "      <th>neu</th>\n",
       "      <th>pos</th>\n",
       "      <th>compound</th>\n",
       "      <th>Brand Name</th>\n",
       "      <th>Product Name</th>\n",
       "      <th>Price</th>\n",
       "      <th>Rating</th>\n",
       "      <th>Reviews</th>\n",
       "      <th>Review Votes</th>\n",
       "    </tr>\n",
       "  </thead>\n",
       "  <tbody>\n",
       "    <tr>\n",
       "      <th>0</th>\n",
       "      <td>0.015</td>\n",
       "      <td>0.796</td>\n",
       "      <td>0.189</td>\n",
       "      <td>0.8783</td>\n",
       "      <td>Samsung</td>\n",
       "      <td>\"CLEAR CLEAN ESN\" Sprint EPIC 4G Galaxy SPH-D7...</td>\n",
       "      <td>199.99</td>\n",
       "      <td>5</td>\n",
       "      <td>I feel so LUCKY to have found this used (phone...</td>\n",
       "      <td>1.0</td>\n",
       "    </tr>\n",
       "    <tr>\n",
       "      <th>1</th>\n",
       "      <td>0.015</td>\n",
       "      <td>0.796</td>\n",
       "      <td>0.189</td>\n",
       "      <td>0.8783</td>\n",
       "      <td>Samsung</td>\n",
       "      <td>\"CLEAR CLEAN ESN\" Sprint EPIC 4G Galaxy SPH-D7...</td>\n",
       "      <td>199.99</td>\n",
       "      <td>4</td>\n",
       "      <td>nice phone, nice up grade from my pantach revu...</td>\n",
       "      <td>0.0</td>\n",
       "    </tr>\n",
       "    <tr>\n",
       "      <th>2</th>\n",
       "      <td>0.015</td>\n",
       "      <td>0.796</td>\n",
       "      <td>0.189</td>\n",
       "      <td>0.8783</td>\n",
       "      <td>Samsung</td>\n",
       "      <td>\"CLEAR CLEAN ESN\" Sprint EPIC 4G Galaxy SPH-D7...</td>\n",
       "      <td>199.99</td>\n",
       "      <td>5</td>\n",
       "      <td>Very pleased</td>\n",
       "      <td>0.0</td>\n",
       "    </tr>\n",
       "    <tr>\n",
       "      <th>3</th>\n",
       "      <td>0.015</td>\n",
       "      <td>0.796</td>\n",
       "      <td>0.189</td>\n",
       "      <td>0.8783</td>\n",
       "      <td>Samsung</td>\n",
       "      <td>\"CLEAR CLEAN ESN\" Sprint EPIC 4G Galaxy SPH-D7...</td>\n",
       "      <td>199.99</td>\n",
       "      <td>4</td>\n",
       "      <td>It works good but it goes slow sometimes but i...</td>\n",
       "      <td>0.0</td>\n",
       "    </tr>\n",
       "    <tr>\n",
       "      <th>4</th>\n",
       "      <td>0.015</td>\n",
       "      <td>0.796</td>\n",
       "      <td>0.189</td>\n",
       "      <td>0.8783</td>\n",
       "      <td>Samsung</td>\n",
       "      <td>\"CLEAR CLEAN ESN\" Sprint EPIC 4G Galaxy SPH-D7...</td>\n",
       "      <td>199.99</td>\n",
       "      <td>4</td>\n",
       "      <td>Great phone to replace my lost phone. The only...</td>\n",
       "      <td>0.0</td>\n",
       "    </tr>\n",
       "  </tbody>\n",
       "</table>\n",
       "</div>"
      ],
      "text/plain": [
       "     neg    neu    pos  compound Brand Name  \\\n",
       "0  0.015  0.796  0.189    0.8783    Samsung   \n",
       "1  0.015  0.796  0.189    0.8783    Samsung   \n",
       "2  0.015  0.796  0.189    0.8783    Samsung   \n",
       "3  0.015  0.796  0.189    0.8783    Samsung   \n",
       "4  0.015  0.796  0.189    0.8783    Samsung   \n",
       "\n",
       "                                        Product Name   Price  Rating  \\\n",
       "0  \"CLEAR CLEAN ESN\" Sprint EPIC 4G Galaxy SPH-D7...  199.99       5   \n",
       "1  \"CLEAR CLEAN ESN\" Sprint EPIC 4G Galaxy SPH-D7...  199.99       4   \n",
       "2  \"CLEAR CLEAN ESN\" Sprint EPIC 4G Galaxy SPH-D7...  199.99       5   \n",
       "3  \"CLEAR CLEAN ESN\" Sprint EPIC 4G Galaxy SPH-D7...  199.99       4   \n",
       "4  \"CLEAR CLEAN ESN\" Sprint EPIC 4G Galaxy SPH-D7...  199.99       4   \n",
       "\n",
       "                                             Reviews  Review Votes  \n",
       "0  I feel so LUCKY to have found this used (phone...           1.0  \n",
       "1  nice phone, nice up grade from my pantach revu...           0.0  \n",
       "2                                       Very pleased           0.0  \n",
       "3  It works good but it goes slow sometimes but i...           0.0  \n",
       "4  Great phone to replace my lost phone. The only...           0.0  "
      ]
     },
     "execution_count": 6,
     "metadata": {},
     "output_type": "execute_result"
    }
   ],
   "source": [
    "import pandas as pd\n",
    "from nltk.sentiment import SentimentIntensityAnalyzer\n",
    "from tqdm.notebook import tqdm\n",
    "\n",
    "# Initialize SentimentIntensityAnalyzer\n",
    "sia = SentimentIntensityAnalyzer()\n",
    "\n",
    "# Ensure 'Reviews' column is string type and handle missing values\n",
    "df['Reviews'] = df['Reviews'].astype(str)  # Convert all entries to string\n",
    "\n",
    "# Dictionary to store results\n",
    "results = []\n",
    "\n",
    "# Run polarity score on the entire dataset\n",
    "for i, row in tqdm(df.iterrows(), total=len(df)):\n",
    "    text = row['Reviews']\n",
    "    name = row['Brand Name']\n",
    "    \n",
    "    if isinstance(text, str):  # Check if text is a string\n",
    "        polarity_scores = sia.polarity_scores(text)\n",
    "        polarity_scores['Brand Name'] = name  # Add 'Brand Name' to the results\n",
    "        results.append(polarity_scores)\n",
    "    else:\n",
    "        results.append({\"Brand Name\": name, \"error\": \"Invalid text\"})\n",
    "\n",
    "# Convert results into a DataFrame\n",
    "vaders = pd.DataFrame(results)\n",
    "\n",
    "# Merge the results with the original DataFrame\n",
    "vaders = vaders.merge(df, how='left', on='Brand Name')\n",
    "\n",
    "# Display the first few rows of the merged DataFrame\n",
    "vaders.head()\n"
   ]
  },
  {
   "cell_type": "markdown",
   "metadata": {},
   "source": [
    "Testing the visualization based on the pretrained model"
   ]
  },
  {
   "cell_type": "code",
   "execution_count": 7,
   "metadata": {},
   "outputs": [
    {
     "data": {
      "text/html": [
       "<div>\n",
       "<style scoped>\n",
       "    .dataframe tbody tr th:only-of-type {\n",
       "        vertical-align: middle;\n",
       "    }\n",
       "\n",
       "    .dataframe tbody tr th {\n",
       "        vertical-align: top;\n",
       "    }\n",
       "\n",
       "    .dataframe thead th {\n",
       "        text-align: right;\n",
       "    }\n",
       "</style>\n",
       "<table border=\"1\" class=\"dataframe\">\n",
       "  <thead>\n",
       "    <tr style=\"text-align: right;\">\n",
       "      <th></th>\n",
       "      <th>neg</th>\n",
       "      <th>neu</th>\n",
       "      <th>pos</th>\n",
       "      <th>compound</th>\n",
       "      <th>Brand Name</th>\n",
       "      <th>Product Name</th>\n",
       "      <th>Price</th>\n",
       "      <th>Rating</th>\n",
       "      <th>Reviews</th>\n",
       "      <th>Review Votes</th>\n",
       "    </tr>\n",
       "  </thead>\n",
       "  <tbody>\n",
       "    <tr>\n",
       "      <th>0</th>\n",
       "      <td>0.015</td>\n",
       "      <td>0.796</td>\n",
       "      <td>0.189</td>\n",
       "      <td>0.8783</td>\n",
       "      <td>Samsung</td>\n",
       "      <td>\"CLEAR CLEAN ESN\" Sprint EPIC 4G Galaxy SPH-D7...</td>\n",
       "      <td>199.99</td>\n",
       "      <td>5</td>\n",
       "      <td>I feel so LUCKY to have found this used (phone...</td>\n",
       "      <td>1.0</td>\n",
       "    </tr>\n",
       "    <tr>\n",
       "      <th>1</th>\n",
       "      <td>0.015</td>\n",
       "      <td>0.796</td>\n",
       "      <td>0.189</td>\n",
       "      <td>0.8783</td>\n",
       "      <td>Samsung</td>\n",
       "      <td>\"CLEAR CLEAN ESN\" Sprint EPIC 4G Galaxy SPH-D7...</td>\n",
       "      <td>199.99</td>\n",
       "      <td>4</td>\n",
       "      <td>nice phone, nice up grade from my pantach revu...</td>\n",
       "      <td>0.0</td>\n",
       "    </tr>\n",
       "    <tr>\n",
       "      <th>2</th>\n",
       "      <td>0.015</td>\n",
       "      <td>0.796</td>\n",
       "      <td>0.189</td>\n",
       "      <td>0.8783</td>\n",
       "      <td>Samsung</td>\n",
       "      <td>\"CLEAR CLEAN ESN\" Sprint EPIC 4G Galaxy SPH-D7...</td>\n",
       "      <td>199.99</td>\n",
       "      <td>5</td>\n",
       "      <td>Very pleased</td>\n",
       "      <td>0.0</td>\n",
       "    </tr>\n",
       "    <tr>\n",
       "      <th>3</th>\n",
       "      <td>0.015</td>\n",
       "      <td>0.796</td>\n",
       "      <td>0.189</td>\n",
       "      <td>0.8783</td>\n",
       "      <td>Samsung</td>\n",
       "      <td>\"CLEAR CLEAN ESN\" Sprint EPIC 4G Galaxy SPH-D7...</td>\n",
       "      <td>199.99</td>\n",
       "      <td>4</td>\n",
       "      <td>It works good but it goes slow sometimes but i...</td>\n",
       "      <td>0.0</td>\n",
       "    </tr>\n",
       "    <tr>\n",
       "      <th>4</th>\n",
       "      <td>0.015</td>\n",
       "      <td>0.796</td>\n",
       "      <td>0.189</td>\n",
       "      <td>0.8783</td>\n",
       "      <td>Samsung</td>\n",
       "      <td>\"CLEAR CLEAN ESN\" Sprint EPIC 4G Galaxy SPH-D7...</td>\n",
       "      <td>199.99</td>\n",
       "      <td>4</td>\n",
       "      <td>Great phone to replace my lost phone. The only...</td>\n",
       "      <td>0.0</td>\n",
       "    </tr>\n",
       "  </tbody>\n",
       "</table>\n",
       "</div>"
      ],
      "text/plain": [
       "     neg    neu    pos  compound Brand Name  \\\n",
       "0  0.015  0.796  0.189    0.8783    Samsung   \n",
       "1  0.015  0.796  0.189    0.8783    Samsung   \n",
       "2  0.015  0.796  0.189    0.8783    Samsung   \n",
       "3  0.015  0.796  0.189    0.8783    Samsung   \n",
       "4  0.015  0.796  0.189    0.8783    Samsung   \n",
       "\n",
       "                                        Product Name   Price  Rating  \\\n",
       "0  \"CLEAR CLEAN ESN\" Sprint EPIC 4G Galaxy SPH-D7...  199.99       5   \n",
       "1  \"CLEAR CLEAN ESN\" Sprint EPIC 4G Galaxy SPH-D7...  199.99       4   \n",
       "2  \"CLEAR CLEAN ESN\" Sprint EPIC 4G Galaxy SPH-D7...  199.99       5   \n",
       "3  \"CLEAR CLEAN ESN\" Sprint EPIC 4G Galaxy SPH-D7...  199.99       4   \n",
       "4  \"CLEAR CLEAN ESN\" Sprint EPIC 4G Galaxy SPH-D7...  199.99       4   \n",
       "\n",
       "                                             Reviews  Review Votes  \n",
       "0  I feel so LUCKY to have found this used (phone...           1.0  \n",
       "1  nice phone, nice up grade from my pantach revu...           0.0  \n",
       "2                                       Very pleased           0.0  \n",
       "3  It works good but it goes slow sometimes but i...           0.0  \n",
       "4  Great phone to replace my lost phone. The only...           0.0  "
      ]
     },
     "execution_count": 7,
     "metadata": {},
     "output_type": "execute_result"
    }
   ],
   "source": [
    "vaders.head()"
   ]
  },
  {
   "cell_type": "markdown",
   "metadata": {},
   "source": [
    "PLOT VADERS RESULTS\n",
    "- bar plot of the compound of ratings"
   ]
  },
  {
   "cell_type": "code",
   "execution_count": 8,
   "metadata": {},
   "outputs": [
    {
     "data": {
      "image/png": "[encoded data removed]",
      "text/plain": [
       "<Figure size 640x480 with 1 Axes>"
      ]
     },
     "metadata": {},
     "output_type": "display_data"
    }
   ],
   "source": [
    "ax = sns.barplot(data = vaders, x = 'Rating', y='compound')\n",
    "ax.set_title('Compound Score by Amazon Star Reviews')\n",
    "plt.show()"
   ]
  },
  {
   "cell_type": "markdown",
   "metadata": {},
   "source": [
    "POS, Neg, Neu Scores of the star Ratings\n",
    "\n",
    "Observation and Assumptions respectively\n",
    "- The Plots look similar to one another.\n",
    "\n",
    "- Vader tends to pick up on a lot of cluster words and may not be finely tuned to nuances\n",
    "- There are many nuances of specific texts leading to similar sentiment scores across different ratings."
   ]
  },
  {
   "cell_type": "code",
   "execution_count": 9,
   "metadata": {},
   "outputs": [
    {
     "data": {
      "image/png": "[encoded data removed]",
      "text/plain": [
       "<Figure size 1200x300 with 3 Axes>"
      ]
     },
     "metadata": {},
     "output_type": "display_data"
    }
   ],
   "source": [
    "fig, axs = plt.subplots(1, 3, figsize=(12, 3))\n",
    "sns.barplot(data = vaders, x = 'Rating', y='neg', ax=axs[0])\n",
    "sns.barplot(data = vaders, x = 'Rating', y='neu', ax=axs[1])\n",
    "sns.barplot(data = vaders, x = 'Rating', y='pos', ax=axs[2])\n",
    "axs[0].set_title('Negative')\n",
    "axs[1].set_title('Neutral')\n",
    "axs[2].set_title('Positive')\n",
    "plt.show()"
   ]
  },
  {
   "cell_type": "markdown",
   "metadata": {},
   "source": []
  },
  {
   "cell_type": "markdown",
   "metadata": {},
   "source": [
    "ROBERTA PRETRAINED MODEL\n",
    "- Uses a model trained of a large corpus of data\n",
    "- Transformer model accounts for the words but also the context related to other words\n",
    "- Applying the trained weights to the dataset"
   ]
  },
  {
   "cell_type": "code",
   "execution_count": 22,
   "metadata": {},
   "outputs": [
    {
     "name": "stderr",
     "output_type": "stream",
     "text": [
      "c:\\Users\\swanjuki\\Documents\\Kare\\Sentiment-Analysis-on-Products\\.venv\\Lib\\site-packages\\transformers\\tokenization_utils_base.py:1601: FutureWarning: `clean_up_tokenization_spaces` was not set. It will be set to `True` by default. This behavior will be depracted in transformers v4.45, and will be then set to `False` by default. For more details check this issue: https://github.com/huggingface/transformers/issues/31884\n",
      "  warnings.warn(\n"
     ]
    }
   ],
   "source": [
    "\n",
    "#ROBERTA MODEL\n",
    "import tf_keras as keras\n",
    "from transformers import RobertaTokenizer\n",
    "from transformers import RobertaForSequenceClassification\n",
    "from scipy.special import softmax\n",
    "\n",
    "#Specific model trained\n",
    "MODEL = f'cardiffnlp/twitter-roberta-base-sentiment'\n",
    "tokenizer = RobertaTokenizer.from_pretrained(MODEL)\n",
    "model = RobertaForSequenceClassification.from_pretrained(MODEL)"
   ]
  },
  {
   "cell_type": "code",
   "execution_count": 11,
   "metadata": {},
   "outputs": [
    {
     "data": {
      "text/plain": [
       "{'neg': 0.094, 'neu': 0.688, 'pos': 0.218, 'compound': 0.6898}"
      ]
     },
     "execution_count": 11,
     "metadata": {},
     "output_type": "execute_result"
    }
   ],
   "source": [
    "# sia.polarity_scores(example)"
   ]
  },
  {
   "cell_type": "code",
   "execution_count": 24,
   "metadata": {},
   "outputs": [
    {
     "name": "stdout",
     "output_type": "stream",
     "text": [
      "SequenceClassifierOutput(loss=None, logits=tensor([[-0.7586,  0.0125,  0.9647]], grad_fn=<AddmmBackward0>), hidden_states=None, attentions=None)\n",
      "{'roberta_neg': 0.11408854, 'roberta_neu': 0.24666648, 'roberta_pos': 0.6392449}\n"
     ]
    }
   ],
   "source": [
    "# encoded text\n",
    "import numpy as np\n",
    "encoded_text = tokenizer(example, return_tensors = \"pt\")\n",
    "output = model(**encoded_text) #tensor with our results\n",
    "print(output) \n",
    "scores = output[0][0].detach().numpy() #convert to numpy array\n",
    "scores = softmax(scores) #apply softmax\n",
    "scores_dict = {\n",
    "    'roberta_neg': scores[0],\n",
    "    'roberta_neu': scores[1],\n",
    "    'roberta_pos': scores[2]\n",
    "}\n",
    "print(scores_dict)\n"
   ]
  },
  {
   "cell_type": "markdown",
   "metadata": {},
   "source": []
  }
 ],
 "metadata": {
  "kernelspec": {
   "display_name": ".venv",
   "language": "python",
   "name": "python3"
  },
  "language_info": {
   "codemirror_mode": {
    "name": "ipython",
    "version": 3
   },
   "file_extension": ".py",
   "mimetype": "text/x-python",
   "name": "python",
   "nbconvert_exporter": "python",
   "pygments_lexer": "ipython3",
   "version": "3.12.3"
  }
 },
 "nbformat": 4,
 "nbformat_minor": 2
}
